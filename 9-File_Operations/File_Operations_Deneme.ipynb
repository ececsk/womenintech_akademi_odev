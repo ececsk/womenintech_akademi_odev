{
 "cells": [
  {
   "cell_type": "markdown",
   "metadata": {},
   "source": [
    "Düzensiz ve duplicate veriden oluşan \"all_data.txt\" dosyası üzerinde yapılacak olan işlemler;\n",
    "\n",
    "* Bütün text küçük harfe çevrilecek\n",
    "* Türkçe karakterler replace edilecek\n",
    "  - ş -> s \n",
    "  - ı -> i \n",
    "  - ö -> o \n",
    "  - ğ -> g \n",
    "  - ç -> c \n",
    "  - ü -> u \n",
    "* Noktalama işaretleri kaldırılacak\n",
    "* Bir satır tamamen sayılardan oluşuyorsa satırı yeni dosyaya ekleme\n",
    "* Her satırda bir cümle olacak şekilde satırları düzenleyin\n",
    "* duplicate veri barındırmayacak"
   ]
  }
 ],
 "metadata": {
  "kernelspec": {
   "display_name": "Python 3.9.12 ('base')",
   "language": "python",
   "name": "python3"
  },
  "language_info": {
   "name": "python",
   "version": "3.9.12"
  },
  "orig_nbformat": 4,
  "vscode": {
   "interpreter": {
    "hash": "20a9e06a1eee47c4abbed4ec8225ad91d78d9800d202b71b6b0a6e47016c6abd"
   }
  }
 },
 "nbformat": 4,
 "nbformat_minor": 2
}
